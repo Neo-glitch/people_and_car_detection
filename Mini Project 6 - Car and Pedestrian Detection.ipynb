{
 "cells": [
  {
   "cell_type": "code",
   "execution_count": null,
   "metadata": {},
   "outputs": [],
   "source": [
    "# Mini Project #6 - Car and Pedestrian Detection "
   ]
  },
  {
   "cell_type": "code",
   "execution_count": 1,
   "metadata": {
    "scrolled": true
   },
   "outputs": [
    {
     "name": "stdout",
     "output_type": "stream",
     "text": [
      "C:\\Users\\NEO\\Anaconda2\\python.exe\n"
     ]
    }
   ],
   "source": [
    "# code that helps us to know where our python.exe file is located.\n",
    "import sys\n",
    "print sys.executable"
   ]
  },
  {
   "cell_type": "markdown",
   "metadata": {},
   "source": [
    "NOTE:\n",
    "\n",
    "# If no video loads after running the code below we should copy opencv_ffmpeg.dll file and Opencv_ffmpeg_64.dll file\n",
    "\n",
    "# from \"C:\\opencv\\sources\\3rdparty\\ffmpeg\".\n",
    "\n",
    "# and paste in the where the anaconda python.exe file is.\n",
    "\n",
    "\n",
    "# Here this is ; \"C:\\Users\\NEO\\Anaconda2\\python.exe\".\n",
    "\n",
    "\n",
    "# after doing this we should rename the .dll file according the version of OpenCV that we are using.\n",
    "\n",
    "\n",
    "# If it is version 2.4.13 then the file will be renamed as ; \"opencv_ffmpeg2413_64.dll\" for 64 bit Pc.\n",
    "\n",
    "# and for x86 or 32bit pc it will be ; \"opencv_ffmpeg2413.dll\""
   ]
  },
  {
   "cell_type": "markdown",
   "metadata": {},
   "source": [
    "# PEDESTRIAN DETECTION"
   ]
  },
  {
   "cell_type": "code",
   "execution_count": null,
   "metadata": {},
   "outputs": [],
   "source": [
    "import cv2\n",
    "import numpy as np\n",
    "\n",
    "# code that creates our body classifier object\n",
    "body_classifier = cv2.CascadeClassifier('C:\\haarcascades\\haarcascade_fullbody.xml')\n",
    "\n",
    "# code that initiates the Video Capture of a video file.\n",
    "cap = cv2.VideoCapture('C:\\image_for_computer_vision\\Walking.avi')\n",
    "\n",
    "# code that loops o\n",
    "# nce the video is loaded.\n",
    "while True:\n",
    "    # code that reads the frame and resize it for faster classifying process.\n",
    "    ret, frame = cap.read()\n",
    "    # note: the fx and fy specifies that we want a new image that is three-quarter or 75% the height and width of the original image\n",
    "    frame = cv2.resize(frame, None, fx=0.75, fy=0.75)\n",
    "    \n",
    "    grey_img = cv2.cvtColor(frame, cv2.COLOR_BGR2GRAY)\n",
    "    \n",
    "    # code that pass the frame to our body classifier\n",
    "    bodies = body_classifier.detectMultiScale(grey_img, 1.3,3)\n",
    "    \n",
    "    # code that extract bounding boxes for any bodies identified and draws a rectangle on them.\n",
    "    for (x,y,w,h) in bodies:\n",
    "        cv2.rectangle(frame, (x,y), (x+w, y+h), (255,0,0),3)\n",
    "        cv2.imshow('Pedestrian Dectector', frame)\n",
    "        \n",
    "    if cv2.waitKey(1) == 13:\n",
    "        break\n",
    "        \n",
    "cap.release()\n",
    "cv2.destroyAllWindows()"
   ]
  },
  {
   "cell_type": "markdown",
   "metadata": {},
   "source": [
    "# Car Detection"
   ]
  },
  {
   "cell_type": "code",
   "execution_count": 1,
   "metadata": {},
   "outputs": [],
   "source": [
    "import cv2\n",
    "import numpy as np\n",
    "import time\n",
    "\n",
    "# code that creates our car classifier object\n",
    "car_classifier = cv2.CascadeClassifier('C:\\haarcascades\\haarcascade_car.xml')\n",
    "\n",
    "# code that initiates the video caoture of our video file\n",
    "cap = cv2.VideoCapture('C:\\image_for_computer_vision\\cars.avi')\n",
    "\n",
    "# Loop once the video is loaded.\n",
    "while True:\n",
    "    # code that makes the program sleep for 0.005 seconds inorder to regulate the framerate\n",
    "    time.sleep(0.005)\n",
    "    # code that reads the frame and grey_scales it\n",
    "    ret, frame = cap.read()\n",
    "    \n",
    "    frame = cv2.resize(frame, None, fx=1.3, fy=1.3, interpolation = cv2.INTER_LINEAR)\n",
    "    \n",
    "    grey_img = cv2.cvtColor(frame, cv2.COLOR_BGR2GRAY)\n",
    "    \n",
    "    # code that passes the frame to our classifier\n",
    "    cars = car_classifier.detectMultiScale(grey_img, 1.4,2)\n",
    "    \n",
    "    \n",
    "    \n",
    "    # code that extracts the Bounding box of any car found and draws a rectangle over them.\n",
    "    for (x,y,w,h) in cars:\n",
    "        counter = cv2.rectangle(frame, (x,y), (x+w, y+h), (0,0,255), 2)\n",
    "        cv2.imshow('Cars Dectection', frame)\n",
    "        \n",
    "        \n",
    "    \n",
    "    if cv2.waitKey(1) == 13:\n",
    "        break\n",
    "        \n",
    "cap.release()\n",
    "cv2.destroyAllWindows()"
   ]
  }
 ],
 "metadata": {
  "kernelspec": {
   "display_name": "Python 3",
   "language": "python",
   "name": "python3"
  },
  "language_info": {
   "codemirror_mode": {
    "name": "ipython",
    "version": 3
   },
   "file_extension": ".py",
   "mimetype": "text/x-python",
   "name": "python",
   "nbconvert_exporter": "python",
   "pygments_lexer": "ipython3",
   "version": "3.7.3"
  }
 },
 "nbformat": 4,
 "nbformat_minor": 2
}
