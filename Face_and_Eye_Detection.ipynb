{
 "cells": [
  {
   "cell_type": "markdown",
   "metadata": {},
   "source": [
    "# Face Detection using HAAR Cascades"
   ]
  },
  {
   "cell_type": "code",
   "execution_count": 2,
   "metadata": {},
   "outputs": [],
   "source": [
    "import cv2\n",
    "import numpy as np\n",
    "\n",
    "# code that loads our CascadeClassifier file.i.e creates our face classifier object.\n",
    "face_classifier = cv2.CascadeClassifier('C:\\haarcascades\\haarcascade_frontalface_default.xml')\n",
    "\n",
    "# code that loads and greyscales the image that we want to try and detect a face in\n",
    "image = cv2.imread('C:\\image_for_computer_vision\\Trump.jpg')\n",
    "grey_img = cv2.cvtColor(image, cv2.COLOR_BGR2GRAY)\n",
    "\n",
    "# defines our ROI of the detected face as a tuple and also stored the top left and bottom right cord.\n",
    "\n",
    "faces = face_classifier.detectMultiScale(grey_img, 1.3, 5)\n",
    "\n",
    "# when no face object is found in the image the face classifier returns an empty tuple.\n",
    "if faces is ():\n",
    "    print 'No faces were found!'\n",
    "    \n",
    "    \n",
    "# code that iterates over our faces tuple and draw rectangle over each face detected.\n",
    "for (x,y,w,h) in faces:\n",
    "    cv2.rectangle(image, (x,y), (x+w,y+h), (255,0,0),3)\n",
    "    cv2.imshow('Face Detection Classifier', image)\n",
    "    cv2.waitKey()\n",
    "    \n",
    "\n",
    "cv2.destroyAllWindows()"
   ]
  },
  {
   "cell_type": "markdown",
   "metadata": {},
   "source": [
    "# Face and Eye Detection"
   ]
  },
  {
   "cell_type": "code",
   "execution_count": 8,
   "metadata": {},
   "outputs": [],
   "source": [
    "import cv2\n",
    "import numpy as np\n",
    "\n",
    "# code that creates the face and the eye classifier objects.\n",
    "face_classifier = cv2.CascadeClassifier('C:\\haarcascades\\haarcascade_frontalface_default.xml')\n",
    "eye_classifier = cv2.CascadeClassifier('C:\\haarcascades\\haarcascade_eye.xml')\n",
    "\n",
    "# code that loads and grey_scales our image\n",
    "image = cv2.imread('C:\\image_for_computer_vision\\kim.jpg')\n",
    "grey_img = cv2.cvtColor(image, cv2.COLOR_BGR2GRAY)\n",
    "\n",
    "faces = face_classifier.detectMultiScale(grey_img, 1.3, 5)\n",
    "\n",
    "if faces is ():\n",
    "    print \"We can't find any faces on your image\"\n",
    "    \n",
    "\n",
    "# code that draws a rectangle over the detected face object in the image\n",
    "for (x,y,w,h) in faces:\n",
    "    cv2.rectangle(image, (x,y), (x+w,y+h), (255, 0, 0), 3)\n",
    "    cv2.imshow('Face detection only', image)\n",
    "    cv2.waitKey()\n",
    "    # code that crops the detected face object out of the grey_image\n",
    "    # this happens after the any key has been saved\n",
    "    roi_grey = grey_img[y:y+h, x:x+w]\n",
    "    # code that crops the detected face object out of the original image\n",
    "    roi_color = image[y:y+h, x:x+w]\n",
    "    # code that detects the eyes in the croped face image and draws a rectangle over them\n",
    "    eyes = eye_classifier.detectMultiScale(roi_grey)\n",
    "    for (ex,ey,ew,eh) in eyes:\n",
    "        cv2.rectangle(roi_color, (ex,ey), (ex+ew, ey+eh), (0,100,255), 3)\n",
    "        cv2.imshow('Face and Eye detection', image)\n",
    "        cv2.waitKey()\n",
    "        \n",
    "cv2.destroyAllWindows()"
   ]
  },
  {
   "cell_type": "markdown",
   "metadata": {},
   "source": [
    "# Live Face and Eye Detection using our webcam"
   ]
  },
  {
   "cell_type": "code",
   "execution_count": 2,
   "metadata": {},
   "outputs": [],
   "source": [
    "import cv2\n",
    "import numpy as np\n",
    "\n",
    "face_classifier = cv2.CascadeClassifier('C:\\haarcascades\\haarcascade_frontalface_default.xml')\n",
    "eye_classifier = cv2.CascadeClassifier('C:\\haarcascades\\haarcascade_eye.xml')\n",
    "\n",
    "def face_detector(image):\n",
    "    # code that converts the image gottend from our webcam into grey_scale\n",
    "    grey_img = cv2.cvtColor(image, cv2.COLOR_BGR2GRAY)\n",
    "    faces = face_classifier.detectMultiScale(grey_img, 1.3, 5)\n",
    "    if faces is ():\n",
    "        return image\n",
    "    \n",
    "    # code that crops our detected face from the webcam feed..i.e grey_scaled image and the original image.\n",
    "    for (x,y,w,h) in faces:\n",
    "        x = x - 50\n",
    "        w = w + 50\n",
    "        y = y - 50\n",
    "        h = h + 50\n",
    "        cv2.rectangle(image, (x,y), (x+w, y+h), (230, 0, 0), 2)\n",
    "        roi_grey = grey_img[y:y+h, x:x+w]\n",
    "        roi_color = image[y:y+h, x:x+w]\n",
    "        eyes = eye_classifier.detectMultiScale(roi_grey)\n",
    "        \n",
    "        # code that draws rectangles over the detected eye object in the webcam feed.\n",
    "        for (ex,ey,ew,eh) in eyes:\n",
    "            cv2.rectangle(roi_color, (ex,ey), (ex+ew, ey+eh), (0, 0, 244), 3)\n",
    "    \n",
    "    # code that flips the cropped face object into a mirror like view\n",
    "    roi_color = cv2.flip(roi_color,1)\n",
    "    return roi_color\n",
    "\n",
    "\n",
    "cap = cv2.VideoCapture(0)\n",
    "\n",
    "while 1:\n",
    "    ret, frame = cap.read()\n",
    "    cv2.imshow('Live face and Eye Detector', face_detector(frame))\n",
    "    if cv2.waitKey(1) == 13:          # if enter key is pressed the program will stop working.\n",
    "        break\n",
    "        \n",
    "        \n",
    "cap.release()\n",
    "cv2.destroyAllWindows()\n",
    "    \n",
    "        "
   ]
  }
 ],
 "metadata": {
  "kernelspec": {
   "display_name": "Python 2",
   "language": "python",
   "name": "python2"
  },
  "language_info": {
   "codemirror_mode": {
    "name": "ipython",
    "version": 2
   },
   "file_extension": ".py",
   "mimetype": "text/x-python",
   "name": "python",
   "nbconvert_exporter": "python",
   "pygments_lexer": "ipython2",
   "version": "2.7.15"
  }
 },
 "nbformat": 4,
 "nbformat_minor": 2
}
